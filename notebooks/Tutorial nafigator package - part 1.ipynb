{
 "cells": [
  {
   "cell_type": "code",
   "execution_count": null,
   "id": "a19317b3",
   "metadata": {},
   "outputs": [],
   "source": [
    "# Welcome!"
   ]
  },
  {
   "cell_type": "code",
   "execution_count": null,
   "id": "7799fdaa",
   "metadata": {},
   "outputs": [],
   "source": [
    "import nafigator\n",
    "import os"
   ]
  },
  {
   "cell_type": "code",
   "execution_count": null,
   "id": "f88f7570",
   "metadata": {},
   "outputs": [],
   "source": [
    "doc_name = os.path.join(\"..\", \"data\", \"external\", \"naf\", \"jaarverslag2020.naf.xml\")\n",
    "\n",
    "doc = nafigator.NafDocument().open(doc_name)"
   ]
  },
  {
   "cell_type": "code",
   "execution_count": null,
   "id": "436bd39a",
   "metadata": {},
   "outputs": [],
   "source": [
    "doc.raw"
   ]
  },
  {
   "cell_type": "code",
   "execution_count": null,
   "id": "46bfa9a9",
   "metadata": {},
   "outputs": [],
   "source": []
  }
 ],
 "metadata": {
  "kernelspec": {
   "display_name": "Python 3",
   "language": "python",
   "name": "python3"
  },
  "language_info": {
   "codemirror_mode": {
    "name": "ipython",
    "version": 3
   },
   "file_extension": ".py",
   "mimetype": "text/x-python",
   "name": "python",
   "nbconvert_exporter": "python",
   "pygments_lexer": "ipython3",
   "version": "3.7.0"
  }
 },
 "nbformat": 4,
 "nbformat_minor": 5
}
