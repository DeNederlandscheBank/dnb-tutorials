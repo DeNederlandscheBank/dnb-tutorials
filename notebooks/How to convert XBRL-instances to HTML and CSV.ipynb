{
 "cells": [
  {
   "cell_type": "markdown",
   "metadata": {},
   "source": [
    "# How to convert Solvency 2 XBRL-instances to HTML and CSV-files"
   ]
  },
  {
   "cell_type": "markdown",
   "metadata": {},
   "source": [
    "This tutorial shows you how to convert a XBRL-instance of a Solvency 2 report to a csv-file. This enables you to use the data from the XBRL-instance in your Python environment.\n",
    "\n",
    "* install the Arelle package\n",
    "\n",
    "* download the Solvency 2 taxonomy from the EIOPA website\n",
    "\n",
    "* get your XBRL-instance(s) (we use here the Solvency 2 XBRL instance examples from the EIOPA website)\n",
    "\n",
    "* read the XBRL-instance and convert it to a csv-file"
   ]
  },
  {
   "cell_type": "markdown",
   "metadata": {},
   "source": [
    "## Install the Arelle package"
   ]
  },
  {
   "cell_type": "markdown",
   "metadata": {},
   "source": [
    "Clone the package from https://github.com/Arelle/Arelle.git"
   ]
  },
  {
   "cell_type": "code",
   "execution_count": null,
   "metadata": {},
   "outputs": [],
   "source": []
  },
  {
   "cell_type": "markdown",
   "metadata": {},
   "source": [
    "And install the package"
   ]
  },
  {
   "cell_type": "code",
   "execution_count": null,
   "metadata": {},
   "outputs": [],
   "source": []
  },
  {
   "cell_type": "markdown",
   "metadata": {},
   "source": [
    "## Download the Solvency 2 taxonomy from the EIOPA website"
   ]
  },
  {
   "cell_type": "markdown",
   "metadata": {},
   "source": [
    "The file we downloaded was:\n",
    "https://dev.eiopa.europa.eu/Taxonomy/Full/2.4.0/S2/EIOPA_SolvencyII_XBRL_Taxonomy_2.4.0_with_external_hotfix.zip"
   ]
  },
  {
   "cell_type": "markdown",
   "metadata": {},
   "source": [
    "## Get your XBRL-instance(s)"
   ]
  },
  {
   "cell_type": "markdown",
   "metadata": {},
   "source": [
    "We got ours from:\n",
    "https://eiopa.europa.eu/regulation-supervision/insurance/reporting-format/data-point-model-and-xbrl. \n",
    "\n",
    "The test instances are here:\n",
    "https://dev.eiopa.europa.eu/Taxonomy/Full/2.4.0/S2/EIOPA_SolvencyII_XBRL_Instance_documents_2.4.0.zip\n"
   ]
  },
  {
   "cell_type": "code",
   "execution_count": null,
   "metadata": {},
   "outputs": [],
   "source": []
  },
  {
   "cell_type": "markdown",
   "metadata": {},
   "source": [
    "## Read the XBRL-instance and convert reports to HTML-pages"
   ]
  },
  {
   "cell_type": "code",
   "execution_count": null,
   "metadata": {},
   "outputs": [],
   "source": [
    "from arelle import ViewFileFactTable, ViewFileFactList, ModelManager, FileSource\n",
    "from arelle import Cntlr, ModelXbrl, ModelDocument, ViewFileFormulae\n",
    "from arelle import ViewFileRenderedGrid, ModelFormulaObject, RenderingEvaluator\n",
    "from ViewFileRenderedGrid import *"
   ]
  },
  {
   "cell_type": "code",
   "execution_count": null,
   "metadata": {},
   "outputs": [],
   "source": [
    "DATA_PATH = 'H:\\\\20_local_data\\\\xbrl\\\\'\n",
    "RESULTS_PATH = 'H:\\\\50_results\\\\xbrl\\\\'\n",
    "LANGUAGE = \"en-GB\""
   ]
  },
  {
   "cell_type": "code",
   "execution_count": null,
   "metadata": {
    "scrolled": true
   },
   "outputs": [],
   "source": [
    "modelmanager = ModelManager.initialize(Cntlr.Cntlr())\n",
    "modelmanager.defaultLang = LANGUAGE\n",
    "modelmanager.formulaOptions = ModelFormulaObject.FormulaOptions()\n",
    "modelmanager.loadCustomTransforms()"
   ]
  },
  {
   "cell_type": "code",
   "execution_count": null,
   "metadata": {},
   "outputs": [],
   "source": [
    "filename = DATA_PATH + 'qrs_240_instance.xbrl'\n",
    "filesource = FileSource.FileSource(filename)"
   ]
  },
  {
   "cell_type": "code",
   "execution_count": null,
   "metadata": {},
   "outputs": [],
   "source": [
    "xbrl_instance = ModelXbrl.load(modelmanager,filename)"
   ]
  },
  {
   "cell_type": "markdown",
   "metadata": {},
   "source": [
    "## Convert XBRL-instance to HTML"
   ]
  },
  {
   "cell_type": "markdown",
   "metadata": {},
   "source": [
    "Now we have the xbrl-instance read"
   ]
  },
  {
   "cell_type": "code",
   "execution_count": null,
   "metadata": {},
   "outputs": [],
   "source": [
    "tables = xbrl_instance.relationshipSet(\"Table-rendering\").linkRoleUris"
   ]
  },
  {
   "cell_type": "code",
   "execution_count": null,
   "metadata": {},
   "outputs": [],
   "source": [
    "RenderingEvaluator.init(xbrl_instance)\n",
    "for item in list(tables):\n",
    "    ViewFileRenderedGrid.viewRenderedGrid(xbrl_instance,\n",
    "                 RESULTS_PATH + item[-13:]+\".html\", \n",
    "                 viewTblELR=item,\n",
    "                 lang = LANGUAGE, \n",
    "                 sourceView = None,\n",
    "                 diffToFile = False)"
   ]
  },
  {
   "cell_type": "markdown",
   "metadata": {},
   "source": [
    "# Convert HTML to CSV"
   ]
  },
  {
   "cell_type": "markdown",
   "metadata": {},
   "source": [
    "WORK IN PROGRESS"
   ]
  },
  {
   "cell_type": "code",
   "execution_count": null,
   "metadata": {},
   "outputs": [],
   "source": [
    "from bs4 import BeautifulSoup\n",
    "import urllib\n",
    "import csv\n",
    "\n",
    "soup = BeautifulSoup(open(RESULTS_PATH + \"S.05.01.02.01.html\"), 'lxml')\n",
    "table = soup.select_one(\"table\")\n",
    "# # python3 just use th.text\n",
    "\n",
    "headers = [th.text for th in table.select(\"td\")]\n",
    "\n",
    "# with open(\"out.csv\", \"w\") as f:\n",
    "#     wr = csv.writer(f)\n",
    "#     wr.writerow(headers)\n",
    "#     wr.writerows([[td.text.encode(\"utf-8\") for td in row.find_all(\"td\")] for row in table.select(\"tr + tr\")])"
   ]
  },
  {
   "cell_type": "code",
   "execution_count": null,
   "metadata": {},
   "outputs": [],
   "source": [
    "import locale\n",
    "locale.setlocale(locale.LC_ALL, 'en_US.UTF-8')\n",
    "\n",
    "tab = table.findAll(\"\",{\"class\": [\"xAxisHdr\"]})\n",
    "for item in tab:\n",
    "    if 'rowspan' in item.attrs:\n",
    "        print(str(item.attrs['rowspan']) + \", \" + str(item.contents[0])+ \",\")\n",
    "    else:\n",
    "        print(str(item.contents[0])+\": \")\n",
    "\n",
    "tab = table.findAll(\"\",{\"class\": [\"yAxisHdr\", \"yAxisHdrWithLeg\", \"cell\"]})\n",
    "for item in tab:\n",
    "    if item.attrs['class'][0] == 'cell':\n",
    "        if item.contents[0] != \"\\xa0\":\n",
    "            print(locale.atof(item.contents[0]))\n",
    "        else:\n",
    "            print(\"nan\")\n",
    "    else:\n",
    "        if 'colspan' in item.attrs:\n",
    "            print(str(item.attrs['colspan']) + \", \" + str(item.contents[0])+ \",\", end='')\n",
    "        else:\n",
    "            print(str(item.contents[0])+\": \", end='')"
   ]
  },
  {
   "cell_type": "markdown",
   "metadata": {},
   "source": [
    "## List validation rules in taxonomy"
   ]
  },
  {
   "cell_type": "code",
   "execution_count": null,
   "metadata": {},
   "outputs": [],
   "source": [
    "import pandas as pd"
   ]
  },
  {
   "cell_type": "code",
   "execution_count": null,
   "metadata": {},
   "outputs": [],
   "source": [
    "ViewFileFormulae.viewFormulae(xbrl_instance, RESULTS_PATH + \"formulae.csv\", \"header\", None)"
   ]
  },
  {
   "cell_type": "code",
   "execution_count": null,
   "metadata": {},
   "outputs": [],
   "source": [
    "formulae = pd.read_csv(RESULTS_PATH + \"formulae.csv\")"
   ]
  },
  {
   "cell_type": "code",
   "execution_count": null,
   "metadata": {},
   "outputs": [],
   "source": [
    "formulae[formulae['Expression'].str[0:2]==\"BV\"]['Expression']"
   ]
  },
  {
   "cell_type": "code",
   "execution_count": null,
   "metadata": {},
   "outputs": [],
   "source": []
  }
 ],
 "metadata": {
  "kernelspec": {
   "display_name": "Python 3",
   "language": "python",
   "name": "python3"
  },
  "language_info": {
   "codemirror_mode": {
    "name": "ipython",
    "version": 3
   },
   "file_extension": ".py",
   "mimetype": "text/x-python",
   "name": "python",
   "nbconvert_exporter": "python",
   "pygments_lexer": "ipython3",
   "version": "3.7.5"
  }
 },
 "nbformat": 4,
 "nbformat_minor": 2
}
