{
 "cells": [
  {
   "cell_type": "markdown",
   "metadata": {},
   "source": [
    "# Ruleminer tutorial"
   ]
  },
  {
   "cell_type": "markdown",
   "metadata": {},
   "source": [
    "Welcome to the tutorial on ruleminer! \n",
    "\n",
    "This tutorial explains the most important features of the ruleminer package.\n",
    "\n",
    "The ruleminer package works with Pandas DataFrames."
   ]
  },
  {
   "cell_type": "code",
   "execution_count": null,
   "metadata": {
    "scrolled": true
   },
   "outputs": [],
   "source": [
    "import pandas as pd\n",
    "import numpy as np\n",
    "import ruleminer"
   ]
  },
  {
   "cell_type": "markdown",
   "metadata": {},
   "source": [
    "Let's construct a simple dataframe to do some rule mining."
   ]
  },
  {
   "cell_type": "code",
   "execution_count": null,
   "metadata": {},
   "outputs": [],
   "source": [
    "col = ['Name', 'Type', 'Assets', 'TP-life', 'TP-nonlife', 'Own funds', 'Diversification','Excess']\n",
    "insurers = [['Insurer  1', 'life insurer',     1000,  800,    0,  200,   12,  200], \n",
    "            ['Insurer  2', 'non-life insurer',   40,    0,   32,    8,    9,    8], \n",
    "            ['Insurer  3', 'non-life insurer',  800,    0,  700,  100,   -1,  100],\n",
    "            ['Insurer  4', 'life insurer',       25,   18,    0,    7,    8,    7], \n",
    "            ['Insurer  5', 'non-life insurer', 2100,    0, 2200,  200,   12,  200], \n",
    "            ['Insurer  6', 'life insurer',      907,  887,    0,   20,    7,   20],\n",
    "            ['Insurer  7', 'life insurer',     7123,    0, 6800,  323,    5,  323],\n",
    "            ['Insurer  8', 'life insurer',     6100, 5920,    0,  180,   14,  180],\n",
    "            ['Insurer  9', 'non-life insurer', 9011,    0, 8800,  211,   19,  211],\n",
    "            ['Insurer 10', 'non-life insurer', 1034,    0,  901,  133,    1,  134]]\n",
    "df = pd.DataFrame(columns = col, data = insurers)\n",
    "df.set_index('Name', inplace = True)\n",
    "df"
   ]
  },
  {
   "cell_type": "markdown",
   "metadata": {},
   "source": [
    "Can we find the errors in this report?\n"
   ]
  },
  {
   "cell_type": "markdown",
   "metadata": {},
   "source": [
    "### Rule with equal values"
   ]
  },
  {
   "cell_type": "code",
   "execution_count": null,
   "metadata": {},
   "outputs": [],
   "source": [
    "templates = [{'expression': '({\".*\"}=={\".*\"})'}]\n",
    "r = ruleminer.RuleMiner(templates=templates, data=df)\n",
    "r.rules"
   ]
  },
  {
   "cell_type": "markdown",
   "metadata": {},
   "source": [
    "When using the equal-pattern you can define the accuracy of the equal pattern. For this you can use the decimal-parameter."
   ]
  },
  {
   "cell_type": "code",
   "execution_count": null,
   "metadata": {},
   "outputs": [],
   "source": [
    "params = {'decimal': 0}\n",
    "templates = [{'expression': '({\".*\"}=={\".*\"})'}]\n",
    "r = ruleminer.RuleMiner(templates=templates, data=df, params=params)\n",
    "r.rules"
   ]
  },
  {
   "cell_type": "markdown",
   "metadata": {},
   "source": [
    "### Patterns with value constant value"
   ]
  },
  {
   "cell_type": "code",
   "execution_count": null,
   "metadata": {},
   "outputs": [],
   "source": [
    "params = {'filter': {'confidence': 0.5, 'abs support': 2}, \n",
    "          'decimal': 0}\n",
    "templates = [{'expression': '({\".*\"}>=0)'}]\n",
    "r = ruleminer.RuleMiner(templates=templates, data=df, params=params)\n",
    "r.rules"
   ]
  },
  {
   "cell_type": "markdown",
   "metadata": {},
   "source": [
    "So we have six patterns (for each column), with one exception, namely that the column 'diversification' contains one negative value."
   ]
  },
  {
   "cell_type": "markdown",
   "metadata": {},
   "source": [
    "### Sum-patterns"
   ]
  },
  {
   "cell_type": "markdown",
   "metadata": {},
   "source": [
    "With an expression this would look like this:"
   ]
  },
  {
   "cell_type": "code",
   "execution_count": null,
   "metadata": {},
   "outputs": [],
   "source": [
    "params = {'filter': {'confidence': 0.5, 'abs support': 2}, \n",
    "          'decimal': 0}\n",
    "templates = [{'expression': 'if ({\"TP.\"}>0) then (({\"TP.\"}+{\".*\"})=={\".*\"})'}]\n",
    "r = ruleminer.RuleMiner(templates=templates, data=df, params=params)\n",
    "r.rules"
   ]
  },
  {
   "cell_type": "code",
   "execution_count": null,
   "metadata": {},
   "outputs": [],
   "source": [
    "r.rules.values"
   ]
  },
  {
   "cell_type": "markdown",
   "metadata": {},
   "source": [
    "### Conditional patterns\n"
   ]
  },
  {
   "cell_type": "markdown",
   "metadata": {},
   "source": [
    "With the conditional pattern you can find conditional statements between columns, such as IF TV-life = 0 THEN TV-nonlife > 0:"
   ]
  },
  {
   "cell_type": "code",
   "execution_count": null,
   "metadata": {},
   "outputs": [],
   "source": [
    "params = {'filter': {'confidence': 0.5, 'abs support': 2}, \n",
    "          'decimal': 0}\n",
    "templates = [{'expression': 'if ({\"TP-life\"}==0) then ({\"TP-nonlife\"} > 0)'}]\n",
    "r = ruleminer.RuleMiner(templates=templates, data=df, params=params)\n",
    "r.rules\n",
    "\n",
    "# p2 = {'name'      : 'equal values',\n",
    "#                           'expression'   : 'IF {\"TV-life\"} = 0 THEN {\"TV-nonlife\"} > 0',\n",
    "#                           'parameters': {\"min_confidence\": 0.5,\n",
    "#                                          \"min_support\"   : 2}}\n",
    "# miner.find(p2)"
   ]
  },
  {
   "cell_type": "markdown",
   "metadata": {},
   "source": [
    "The following metrics are currently available\n",
    "\n",
    "* added value\n",
    "* conviction\n",
    "* casual confidence\n",
    "* casual support\n",
    "* lift\n",
    "* relative support\n"
   ]
  },
  {
   "cell_type": "markdown",
   "metadata": {},
   "source": [
    "## Background"
   ]
  },
  {
   "cell_type": "markdown",
   "metadata": {},
   "source": [
    "Our approach to pattern mining is somewhat different from traditional association rules mining. Association rules work on a set of items (binary attributes). In the original definition, the items in the set are not linked to column names. However, often we want to find associations between the values of specific columns in a dataset. The pattern mining applied here finds patterns between the values of different columns in a dataset while using the basic measures of association rules mining like support and confidence.\n"
   ]
  },
  {
   "cell_type": "code",
   "execution_count": null,
   "metadata": {},
   "outputs": [],
   "source": []
  }
 ],
 "metadata": {
  "kernelspec": {
   "display_name": "Python 3",
   "language": "python",
   "name": "python3"
  },
  "language_info": {
   "codemirror_mode": {
    "name": "ipython",
    "version": 3
   },
   "file_extension": ".py",
   "mimetype": "text/x-python",
   "name": "python",
   "nbconvert_exporter": "python",
   "pygments_lexer": "ipython3",
   "version": "3.7.0"
  }
 },
 "nbformat": 4,
 "nbformat_minor": 2
}
