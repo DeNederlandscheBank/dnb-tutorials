{
 "cells": [
  {
   "cell_type": "markdown",
   "metadata": {},
   "source": [
    "# Pattern mining tutorial"
   ]
  },
  {
   "cell_type": "markdown",
   "metadata": {},
   "source": [
    "Welcome to the tutorial on pattern mining! \n",
    "\n",
    "This tutorial explains the most important features of the data-patterns package.\n",
    "\n",
    "The data-pattern-package works with Pandas DataFrames."
   ]
  },
  {
   "cell_type": "code",
   "execution_count": null,
   "metadata": {
    "scrolled": true
   },
   "outputs": [],
   "source": [
    "import pandas as pd\n",
    "import data_patterns\n",
    "GLOBALS = {'data_patterns': data_patterns}"
   ]
  },
  {
   "cell_type": "markdown",
   "metadata": {},
   "source": [
    "Let's construct a simple dataframe to do some pattern mining."
   ]
  },
  {
   "cell_type": "code",
   "execution_count": null,
   "metadata": {},
   "outputs": [],
   "source": [
    "col = ['Name', 'Type', 'Assets', 'TV-life', 'TV-nonlife', 'Own funds', 'Diversification','Excess']\n",
    "insurers = [['Insurer  1', 'life insurer',     1000,  800,    0,  200,   12,  200], \n",
    "            ['Insurer  2', 'non-life insurer',   40,    0,   32,    8,    9,    8], \n",
    "            ['Insurer  3', 'non-life insurer',  800,    0,  700,  100,   -1,  100],\n",
    "            ['Insurer  4', 'life insurer',       25,   18,    0,    7,    8,    7], \n",
    "            ['Insurer  5', 'non-life insurer', 2100,    0, 2200,  200,   12,  200], \n",
    "            ['Insurer  6', 'life insurer',      907,  887,    0,   20,    7,   20],\n",
    "            ['Insurer  7', 'life insurer',     7123,    0, 6800,  323,    5,  323],\n",
    "            ['Insurer  8', 'life insurer',     6100, 5920,    0,  180,   14,  180],\n",
    "            ['Insurer  9', 'non-life insurer', 9011,    0, 8800,  211,   19,  211],\n",
    "            ['Insurer 10', 'non-life insurer', 1034,    0,  901,  133,    1,  134]]\n",
    "df = pd.DataFrame(columns = col, data = insurers)\n",
    "df.set_index('Name', inplace = True)\n",
    "df"
   ]
  },
  {
   "cell_type": "markdown",
   "metadata": {},
   "source": [
    "Can we find the errors in this report?\n"
   ]
  },
  {
   "cell_type": "markdown",
   "metadata": {},
   "source": [
    "### Patterns with value constant value"
   ]
  },
  {
   "cell_type": "markdown",
   "metadata": {},
   "source": [
    "To find patterns you need to construct a PatternMiner-object and input a pattern definition. Then you can use the find-function. The result is a Pandas DataFrame with the patterns that were found.\n",
    "\n",
    "First of all, let's find patterns for whether values are positive or negative."
   ]
  },
  {
   "cell_type": "code",
   "execution_count": null,
   "metadata": {},
   "outputs": [],
   "source": [
    "p1 = {'name'      : 'positive values', \n",
    "      'pattern'   : '>=',\n",
    "      'value'     : 0,\n",
    "      'parameters': {'min_confidence': 0.5,\n",
    "                     'min_support'   : 2}}\n",
    "miner = data_patterns.PatternMiner(p1)\n",
    "miner.find(df)"
   ]
  },
  {
   "cell_type": "markdown",
   "metadata": {},
   "source": [
    "So we have six patterns (for each column), with one exception, namely that the column 'diversification' contains one negative value."
   ]
  },
  {
   "cell_type": "markdown",
   "metadata": {},
   "source": [
    "### Patterns with equal values"
   ]
  },
  {
   "cell_type": "markdown",
   "metadata": {},
   "source": [
    "Now, let's find patterns with equal columns."
   ]
  },
  {
   "cell_type": "code",
   "execution_count": null,
   "metadata": {},
   "outputs": [],
   "source": [
    "parameters = {'min_confidence': 0.5,'min_support'   : 2}\n",
    "p2 = {'name'      : 'equal values', \n",
    "      'pattern'   : '=',\n",
    "      'parameters': parameters}\n",
    "miner = data_patterns.PatternMiner(p2)\n",
    "miner.find(df)"
   ]
  },
  {
   "cell_type": "markdown",
   "metadata": {},
   "source": [
    "When using the equal-pattern you can define the accuracy of the equal pattern. For this you can use the decimal-parameter."
   ]
  },
  {
   "cell_type": "code",
   "execution_count": null,
   "metadata": {},
   "outputs": [],
   "source": [
    "parameters = {'min_confidence': 0.5, 'min_support': 2, 'decimal': -1}"
   ]
  },
  {
   "cell_type": "markdown",
   "metadata": {},
   "source": [
    "If we now run the miner with the alternative "
   ]
  },
  {
   "cell_type": "code",
   "execution_count": null,
   "metadata": {},
   "outputs": [],
   "source": [
    "p2_alt = {'name'      : 'equal values', \n",
    "          'pattern'   : '=',\n",
    "          'parameters': parameters}\n",
    "miner = data_patterns.PatternMiner(p2_alt)\n",
    "miner.find(df)"
   ]
  },
  {
   "cell_type": "markdown",
   "metadata": {},
   "source": [
    "### Sum-patterns"
   ]
  },
  {
   "cell_type": "markdown",
   "metadata": {},
   "source": [
    "To find sum-pattern you can use"
   ]
  },
  {
   "cell_type": "code",
   "execution_count": null,
   "metadata": {},
   "outputs": [],
   "source": [
    "p3 = {'name'   : 'sum pattern',\n",
    "      'pattern': 'sum',\n",
    "      'parameters': {\"min_confidence\": 0.5,\n",
    "                     \"min_support\"   : 1}}\n",
    "miner = data_patterns.PatternMiner(p3)\n",
    "miner.find(df)"
   ]
  },
  {
   "cell_type": "markdown",
   "metadata": {},
   "source": [
    "### Patterns in whether cells are reported or not"
   ]
  },
  {
   "cell_type": "markdown",
   "metadata": {},
   "source": [
    "Suppose we expect a relation or association between Feature 1 and Feature 2. For this, we can now define a metapattern and initialize a PatternMiner-object with this metapattern."
   ]
  },
  {
   "cell_type": "code",
   "execution_count": null,
   "metadata": {},
   "outputs": [],
   "source": [
    "p4 = {'name'     : 'type pattern',\n",
    "      'P_columns': ['Type'],\n",
    "      'Q_columns': ['Assets', 'TV-life', 'TV-nonlife', 'Own funds'],\n",
    "      'encode'   : {'Assets'    : data_patterns.reported,\n",
    "                    'TV-life'   : data_patterns.reported,\n",
    "                    'TV-nonlife': data_patterns.reported,\n",
    "                    'Own funds' : data_patterns.reported}}\n",
    "p = data_patterns.PatternMiner(p4)\n",
    "p.find(df)"
   ]
  },
  {
   "cell_type": "markdown",
   "metadata": {},
   "source": [
    "### Combining patterns "
   ]
  },
  {
   "cell_type": "markdown",
   "metadata": {},
   "source": [
    "You can run the miner with a list of pattern definitions."
   ]
  },
  {
   "cell_type": "code",
   "execution_count": null,
   "metadata": {},
   "outputs": [],
   "source": [
    "miner = data_patterns.PatternMiner([p1, p2, p3, p4])\n",
    "df_patterns = miner.find(df)"
   ]
  },
  {
   "cell_type": "code",
   "execution_count": null,
   "metadata": {},
   "outputs": [],
   "source": [
    "df_patterns"
   ]
  },
  {
   "cell_type": "markdown",
   "metadata": {},
   "source": [
    "### Getting different codings of patterns"
   ]
  },
  {
   "cell_type": "markdown",
   "metadata": {},
   "source": [
    "Now that we have the patterns we can transform then to different codings. \n",
    "\n",
    "The Pandas code of the exceptions of 7-th pattern is"
   ]
  },
  {
   "cell_type": "code",
   "execution_count": null,
   "metadata": {},
   "outputs": [],
   "source": [
    "pattern_text = df_patterns.loc[12, 'pandas co']\n",
    "print(pattern_text)"
   ]
  },
  {
   "cell_type": "markdown",
   "metadata": {},
   "source": [
    "You can evaluate the Pandas code directly with the eval-function inside Python."
   ]
  },
  {
   "cell_type": "code",
   "execution_count": null,
   "metadata": {},
   "outputs": [],
   "source": [
    "eval(pattern_text, GLOBALS, {'df': df})"
   ]
  },
  {
   "cell_type": "markdown",
   "metadata": {},
   "source": [
    "The code for the XBRL-validation of the confirmation of this pattern is"
   ]
  },
  {
   "cell_type": "code",
   "execution_count": null,
   "metadata": {},
   "outputs": [],
   "source": [
    "df_patterns.loc[12, 'xbrl co']"
   ]
  },
  {
   "cell_type": "markdown",
   "metadata": {},
   "source": [
    "### Analyzing results"
   ]
  },
  {
   "cell_type": "markdown",
   "metadata": {},
   "source": [
    "If you want to know the results of the patterns per insurer then you can use the analyze-function."
   ]
  },
  {
   "cell_type": "code",
   "execution_count": null,
   "metadata": {
    "scrolled": true
   },
   "outputs": [],
   "source": [
    "df_results = miner.analyze(df)"
   ]
  },
  {
   "cell_type": "markdown",
   "metadata": {},
   "source": [
    "df_results is a proper Pandas DataFrame, so you can do the usual stuff with it. For example all exceptions to the patterns."
   ]
  },
  {
   "cell_type": "code",
   "execution_count": null,
   "metadata": {},
   "outputs": [],
   "source": [
    "df_results[df_results['result_type']==False]"
   ]
  },
  {
   "cell_type": "markdown",
   "metadata": {},
   "source": [
    "### Export to and import from Excel"
   ]
  },
  {
   "cell_type": "markdown",
   "metadata": {},
   "source": [
    "You can export the DataFrame with the patterns with the to_excel-function. This produces an Excel file in a humanly readable format."
   ]
  },
  {
   "cell_type": "code",
   "execution_count": null,
   "metadata": {},
   "outputs": [],
   "source": [
    "df_patterns.to_excel(filename = \"patterns.xlsx\")"
   ]
  },
  {
   "cell_type": "markdown",
   "metadata": {},
   "source": [
    "And you can read the Excel with the patterns into the PatternMiner-object in the following way."
   ]
  },
  {
   "cell_type": "code",
   "execution_count": null,
   "metadata": {
    "scrolled": false
   },
   "outputs": [],
   "source": [
    "p = data_patterns.PatternMiner(df_patterns = data_patterns.read_excel(filename = \"export.xlsx\"))"
   ]
  },
  {
   "cell_type": "code",
   "execution_count": null,
   "metadata": {},
   "outputs": [],
   "source": [
    "df_patterns = p.update_statistics(df)\n",
    "df_patterns"
   ]
  },
  {
   "cell_type": "markdown",
   "metadata": {},
   "source": [
    "## Background"
   ]
  },
  {
   "cell_type": "markdown",
   "metadata": {},
   "source": [
    "Our approach to pattern mining is somewhat different from traditional association rules mining. Association rules work on a set of items (binary attributes). In the original definition, the items in the set are not linked to column names. However, often we want to find associations between the values of specific columns in a dataset. The pattern mining applied here finds patterns between the values of different columns in a dataset while using the basic measures of association rules mining like support and confidence.\n"
   ]
  },
  {
   "cell_type": "code",
   "execution_count": null,
   "metadata": {},
   "outputs": [],
   "source": []
  }
 ],
 "metadata": {
  "kernelspec": {
   "display_name": "Python 3",
   "language": "python",
   "name": "python3"
  },
  "language_info": {
   "codemirror_mode": {
    "name": "ipython",
    "version": 3
   },
   "file_extension": ".py",
   "mimetype": "text/x-python",
   "name": "python",
   "nbconvert_exporter": "python",
   "pygments_lexer": "ipython3",
   "version": "3.7.4"
  }
 },
 "nbformat": 4,
 "nbformat_minor": 2
}
