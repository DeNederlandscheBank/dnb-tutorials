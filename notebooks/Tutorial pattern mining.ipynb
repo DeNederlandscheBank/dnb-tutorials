{
 "cells": [
  {
   "cell_type": "markdown",
   "metadata": {},
   "source": [
    "# Pattern mining tutorial"
   ]
  },
  {
   "cell_type": "markdown",
   "metadata": {},
   "source": [
    "Welcome to the tutorial on pattern mining! \n",
    "\n",
    "This tutorial explains the most important features of the data-patterns package.\n",
    "\n",
    "The data-pattern-package works with Pandas DataFrames."
   ]
  },
  {
   "cell_type": "code",
   "execution_count": null,
   "metadata": {
    "scrolled": true
   },
   "outputs": [],
   "source": [
    "import pandas as pd\n",
    "import numpy as np\n",
    "import data_patterns\n",
    "for item in data_patterns.encodings_definitions:\n",
    "    exec(data_patterns.encodings_definitions[item])\n",
    "encodings = {}\n",
    "for item in data_patterns.encodings_definitions.keys():\n",
    "    encodings[item]= locals()[item]"
   ]
  },
  {
   "cell_type": "markdown",
   "metadata": {},
   "source": [
    "Let's construct a simple dataframe to do some pattern mining."
   ]
  },
  {
   "cell_type": "code",
   "execution_count": null,
   "metadata": {},
   "outputs": [],
   "source": [
    "col = ['Name', 'Type', 'Assets', 'TV-life', 'TV-nonlife', 'Own funds', 'Diversification','Excess']\n",
    "insurers = [['Insurer  1', 'life insurer',     1000,  800,    0,  200,   12,  200], \n",
    "            ['Insurer  2', 'non-life insurer',   40,    0,   32,    8,    9,    8], \n",
    "            ['Insurer  3', 'non-life insurer',  800,    0,  700,  100,   -1,  100],\n",
    "            ['Insurer  4', 'life insurer',       25,   18,    0,    7,    8,    7], \n",
    "            ['Insurer  5', 'non-life insurer', 2100,    0, 2200,  200,   12,  200], \n",
    "            ['Insurer  6', 'life insurer',      907,  887,    0,   20,    7,   20],\n",
    "            ['Insurer  7', 'life insurer',     7123,    0, 6800,  323,    5,  323],\n",
    "            ['Insurer  8', 'life insurer',     6100, 5920,    0,  180,   14,  180],\n",
    "            ['Insurer  9', 'non-life insurer', 9011,    0, 8800,  211,   19,  211],\n",
    "            ['Insurer 10', 'non-life insurer', 1034,    0,  901,  133,    1,  134]]\n",
    "df = pd.DataFrame(columns = col, data = insurers)\n",
    "df.set_index('Name', inplace = True)\n",
    "df"
   ]
  },
  {
   "cell_type": "markdown",
   "metadata": {},
   "source": [
    "Can we find the errors in this report?\n"
   ]
  },
  {
   "cell_type": "markdown",
   "metadata": {},
   "source": [
    "Let's first define our miner"
   ]
  },
  {
   "cell_type": "code",
   "execution_count": null,
   "metadata": {},
   "outputs": [],
   "source": [
    "miner = data_patterns.PatternMiner(df)"
   ]
  },
  {
   "cell_type": "markdown",
   "metadata": {},
   "source": [
    "### Patterns with equal values"
   ]
  },
  {
   "cell_type": "markdown",
   "metadata": {},
   "source": [
    "There are two ways of finding a pattern with an expression or using a code structure. Let's start with the latter one:"
   ]
  },
  {
   "cell_type": "code",
   "execution_count": null,
   "metadata": {},
   "outputs": [],
   "source": [
    "parameters = {'min_confidence': 0.5,'min_support'   : 2, 'decimal': 8}\n",
    "p2 = {'name'      : 'equal values', \n",
    "          'pattern'   : '=',\n",
    "      'parameters': parameters}\n",
    "miner.find(p2)"
   ]
  },
  {
   "cell_type": "markdown",
   "metadata": {},
   "source": [
    "Now, let's find patterns with equal columns with an expression."
   ]
  },
  {
   "cell_type": "code",
   "execution_count": null,
   "metadata": {},
   "outputs": [],
   "source": [
    "parameters = {'min_confidence': 0.5,'min_support'   : 2, 'decimal': 8}\n",
    "p2 = {'name'      : 'equal values', \n",
    "      'expression'   : '{.*}={.*}',\n",
    "      'parameters': parameters}\n",
    "miner.find(p2)"
   ]
  },
  {
   "cell_type": "markdown",
   "metadata": {},
   "source": [
    "When using the equal-pattern you can define the accuracy of the equal pattern. For this you can use the decimal-parameter."
   ]
  },
  {
   "cell_type": "code",
   "execution_count": null,
   "metadata": {},
   "outputs": [],
   "source": [
    "parameters = {'min_confidence': 0.5, 'min_support': 2, 'decimal': -1}"
   ]
  },
  {
   "cell_type": "markdown",
   "metadata": {},
   "source": [
    "If we now run the miner with the alternative "
   ]
  },
  {
   "cell_type": "code",
   "execution_count": null,
   "metadata": {},
   "outputs": [],
   "source": [
    "p2_alt = {'name'      : 'equal values', \n",
    "          'expression'   : '{.*}={.*}',\n",
    "          'parameters': parameters}\n",
    "miner.find(p2_alt)"
   ]
  },
  {
   "cell_type": "markdown",
   "metadata": {},
   "source": [
    "We can also do it with a pattern instead of an expression"
   ]
  },
  {
   "cell_type": "code",
   "execution_count": null,
   "metadata": {},
   "outputs": [],
   "source": [
    "p2_alt2 = {'name'      : 'equal values', \n",
    "          'pattern'   : '=',\n",
    "          'parameters': parameters}\n",
    "miner.find(p2_alt2)"
   ]
  },
  {
   "cell_type": "markdown",
   "metadata": {},
   "source": [
    "### Patterns with value constant value"
   ]
  },
  {
   "cell_type": "markdown",
   "metadata": {},
   "source": [
    "To find patterns you need to construct a PatternMiner-object and input a pattern definition. Then you can use the find-function. The result is a Pandas DataFrame with the patterns that were found.\n",
    "\n",
    "First of all, let's find patterns for whether values are positive or negative."
   ]
  },
  {
   "cell_type": "code",
   "execution_count": null,
   "metadata": {},
   "outputs": [],
   "source": [
    "p1 = {'name'      : 'positive values', \n",
    "        'expression'   : '{.*}>=0',\n",
    "      'parameters': {'min_confidence': 0.5,\n",
    "                     'min_support'   : 2}}\n",
    "miner.find(p1)"
   ]
  },
  {
   "cell_type": "markdown",
   "metadata": {},
   "source": [
    "So we have six patterns (for each column), with one exception, namely that the column 'diversification' contains one negative value."
   ]
  },
  {
   "cell_type": "markdown",
   "metadata": {},
   "source": [
    "We can also do it with a pattern instead of an expression"
   ]
  },
  {
   "cell_type": "code",
   "execution_count": null,
   "metadata": {},
   "outputs": [],
   "source": [
    "p1_alt = {'name'      : 'equal values', \n",
    "          'pattern'   : '>=',\n",
    "          'value'     : 0,\n",
    "          'parameters': parameters}\n",
    "miner.find(p1_alt)"
   ]
  },
  {
   "cell_type": "markdown",
   "metadata": {},
   "source": [
    "### Sum-patterns"
   ]
  },
  {
   "cell_type": "markdown",
   "metadata": {},
   "source": [
    "To find sum-pattern you can use the function below. With the sum pattern, one can choose to ignore columns where the value is 0. One has to do that by setting the parameter 'nonzero' to True."
   ]
  },
  {
   "cell_type": "code",
   "execution_count": null,
   "metadata": {},
   "outputs": [],
   "source": [
    "p3 = {'name'   : 'sum pattern',\n",
    "      'pattern': 'sum',\n",
    "      'parameters': {\"min_confidence\": 0.5,\n",
    "                     \"min_support\"   : 1}}\n",
    "miner.find(p3)"
   ]
  },
  {
   "cell_type": "markdown",
   "metadata": {},
   "source": [
    "With an expression this would look like this:"
   ]
  },
  {
   "cell_type": "code",
   "execution_count": null,
   "metadata": {},
   "outputs": [],
   "source": [
    "parameters = {'min_confidence': 0.5,'min_support'   : 2}\n",
    "p2 = {'name'      : 'equal values', \n",
    "      'expression'   : '{.*} + {.*}={.*}',\n",
    "      'parameters': parameters}\n",
    "miner.find(p2)"
   ]
  },
  {
   "cell_type": "markdown",
   "metadata": {},
   "source": [
    "### Conditional patterns\n"
   ]
  },
  {
   "cell_type": "markdown",
   "metadata": {},
   "source": [
    "With the conditional pattern you can find conditional statements between columns, such as IF TV-life = 0 THEN TV-nonlife > 0:"
   ]
  },
  {
   "cell_type": "code",
   "execution_count": null,
   "metadata": {},
   "outputs": [],
   "source": [
    "p2 = {'name'     : 'Condition',\n",
    "     'pattern'  : '-->',\n",
    "     'P_columns': ['TV-life'],\n",
    "     'P_values' : [0],\n",
    "     'Q_columns': ['TV-nonlife'],\n",
    "     'Q_values' : [0],\n",
    "     'parameters' : {\"min_confidence\" : 0.5, \"min_support\" : 1,'Q_operators': ['>']}}\n",
    "miner.find(p2)"
   ]
  },
  {
   "cell_type": "markdown",
   "metadata": {},
   "source": [
    "One can define the values, operators and logics. The values are normally set to none and will then try every possible option for the values. The operators are put in the parameters as shown above and are set to '=' when none are given. Logics are the operators between columns such as '&' and '|' (AND, OR). Logics are also put in the parameters as 'Q_logics' or 'P_logics'. These can only be used when we have more than one column in P or Q. This is set to '&' when none are given.\n",
    "\n",
    "An easier approach is to use text for a conditional statement. See the Expression chapter for more information."
   ]
  },
  {
   "cell_type": "code",
   "execution_count": null,
   "metadata": {},
   "outputs": [],
   "source": [
    "p2 = {'name'      : 'equal values',\n",
    "                          'expression'   : 'IF {\"TV-life\"} = 0 THEN {\"TV-nonlife\"} > 0',\n",
    "                          'parameters': {\"min_confidence\": 0.5,\n",
    "                                         \"min_support\"   : 2}}\n",
    "miner.find(p2)"
   ]
  },
  {
   "cell_type": "markdown",
   "metadata": {},
   "source": [
    "### Percentile patterns"
   ]
  },
  {
   "cell_type": "markdown",
   "metadata": {},
   "source": [
    "One can also find the percentiles of certain columns. It does so by adding the percentile value in parameters. The result is a lower and upper boundary of values that are included in the support elements."
   ]
  },
  {
   "cell_type": "code",
   "execution_count": null,
   "metadata": {},
   "outputs": [],
   "source": [
    "parameters = {'min_confidence': 0.3,'min_support'   : 1, 'percentile' : 90}\n",
    "p5 = {'name'      : 'type pattern',\n",
    "        'pattern' : 'percentile',\n",
    "        'columns' : [ 'TV-nonlife', 'Own funds'],\n",
    "      'parameters':parameters}\n",
    "miner.find(p5)"
   ]
  },
  {
   "cell_type": "markdown",
   "metadata": {},
   "source": [
    "### Patterns in whether cells are reported or not"
   ]
  },
  {
   "cell_type": "markdown",
   "metadata": {},
   "source": [
    "Suppose we expect a relation or association between Feature 1 and Feature 2. For this, we can now define a metapattern and initialize a PatternMiner-object with this metapattern."
   ]
  },
  {
   "cell_type": "code",
   "execution_count": null,
   "metadata": {},
   "outputs": [],
   "source": [
    "p4 = {'name'     : 'type pattern',\n",
    "    'pattern' : '-->',\n",
    "      'P_columns': ['Type'],\n",
    "      'Q_columns': ['Assets', 'TV-life', 'TV-nonlife', 'Own funds'],\n",
    "      'encode'   : {'Assets'    : 'reported',\n",
    "                    'TV-life'   : 'reported',\n",
    "                    'TV-nonlife': 'reported',\n",
    "                    'Own funds' : 'reported'}}\n",
    "miner.find(p4)"
   ]
  },
  {
   "cell_type": "markdown",
   "metadata": {},
   "source": [
    "With an expression this would be:"
   ]
  },
  {
   "cell_type": "code",
   "execution_count": null,
   "metadata": {},
   "outputs": [],
   "source": [
    "p4 = {'name'     : 'type pattern',\n",
    "    'expression' : 'IF {.*Ty.*} = [@] THEN {.*As.*} = [@] & {.*TV-n.*} = [@] & {.*TV-l.*} = [@] & {.*O.*} = [@]',\n",
    "      'P_columns': ['Type'],\n",
    "      'Q_columns': ['Assets', 'TV-life', 'TV-nonlife', 'Own funds'],\n",
    "      'encode'   : {'Assets'    : 'reported',\n",
    "                    'TV-life'   : 'reported',\n",
    "                    'TV-nonlife': 'reported',\n",
    "                    'Own funds' : 'reported'}}\n",
    "miner.find(p4)"
   ]
  },
  {
   "cell_type": "markdown",
   "metadata": {},
   "source": [
    "### Instructions for an expression"
   ]
  },
  {
   "cell_type": "markdown",
   "metadata": {},
   "source": [
    "Expressions can be written as followed:\n",
    "\n",
    "1. Put it in a structure like above\n",
    "2. Columns are given with '{}', example: '{Assests} > 0'\n",
    "3. If you want to find matches with columns you can do '{.*}' (this will match all columns), example: '{.*TV.*} > 0' (will match TV-life and TV-nonlife)\n",
    "4. Conditional statements go with IF, THEN together with & and | (and/or), example: 'IF ({.*TV-life.*} = 0) THEN ({.*TV-nonlife.*} = 8800) & {.*As.*} > 0)' Note: AND is only used when you want the reverse of this statement, such as 'IF ({.*TV-life.*} = 0) THEN ({.*TV-nonlife.*} = 8800) & {.*As.*} > 0) AND IF ({.*TV-life.*} = 0) THEN ~({.*TV-nonlife.*} = 8800) & {.*As.*} > 0)'\n",
    "5. Use [@] if you do not have a specific value, example: 'IF ({.*Ty.*} = \"@\") THEN ({.*As.*} = \"@\")'"
   ]
  },
  {
   "cell_type": "markdown",
   "metadata": {},
   "source": [
    "### Combining patterns "
   ]
  },
  {
   "cell_type": "markdown",
   "metadata": {},
   "source": [
    "You can run the miner with a list of pattern definitions."
   ]
  },
  {
   "cell_type": "code",
   "execution_count": null,
   "metadata": {},
   "outputs": [],
   "source": [
    "df_patterns = miner.find([p1, p2, p3, p4])"
   ]
  },
  {
   "cell_type": "code",
   "execution_count": null,
   "metadata": {
    "scrolled": false
   },
   "outputs": [],
   "source": [
    "df_patterns"
   ]
  },
  {
   "cell_type": "markdown",
   "metadata": {},
   "source": [
    "### Getting different codings of patterns"
   ]
  },
  {
   "cell_type": "markdown",
   "metadata": {},
   "source": [
    "Now that we have the patterns we can transform then to different codings. \n",
    "\n",
    "The Pandas code of the exceptions of the 7-th pattern is"
   ]
  },
  {
   "cell_type": "code",
   "execution_count": null,
   "metadata": {},
   "outputs": [],
   "source": [
    "pattern_text = df_patterns.loc[6, 'pandas']\n",
    "print(pattern_text)"
   ]
  },
  {
   "cell_type": "markdown",
   "metadata": {},
   "source": [
    "You can evaluate the Pandas code directly with the eval-function inside Python."
   ]
  },
  {
   "cell_type": "code",
   "execution_count": null,
   "metadata": {},
   "outputs": [],
   "source": [
    "eval(pattern_text['X and Y'], globals(), {'df': df})"
   ]
  },
  {
   "cell_type": "markdown",
   "metadata": {},
   "source": [
    "### Analyzing results"
   ]
  },
  {
   "cell_type": "markdown",
   "metadata": {},
   "source": [
    "If you want to know the results of the patterns per insurer then you can use the analyze-function."
   ]
  },
  {
   "cell_type": "code",
   "execution_count": null,
   "metadata": {
    "scrolled": true
   },
   "outputs": [],
   "source": [
    "df_results = miner.analyze()"
   ]
  },
  {
   "cell_type": "markdown",
   "metadata": {},
   "source": [
    "df_results is a proper Pandas DataFrame, so you can do the usual stuff with it. For example all exceptions to the patterns."
   ]
  },
  {
   "cell_type": "code",
   "execution_count": null,
   "metadata": {
    "scrolled": true
   },
   "outputs": [],
   "source": [
    "df_results[df_results['result_type']==False]"
   ]
  },
  {
   "cell_type": "markdown",
   "metadata": {},
   "source": [
    "### Export to and import from Excel"
   ]
  },
  {
   "cell_type": "markdown",
   "metadata": {},
   "source": [
    "You can export the DataFrame with the patterns with the to_excel-function. This produces an Excel file in a humanly readable format."
   ]
  },
  {
   "cell_type": "code",
   "execution_count": null,
   "metadata": {},
   "outputs": [],
   "source": [
    "type(df_patterns)"
   ]
  },
  {
   "cell_type": "code",
   "execution_count": null,
   "metadata": {},
   "outputs": [],
   "source": [
    "df_patterns.to_excel(\"patterns.xlsx\", sheet_name='Patterns')"
   ]
  },
  {
   "cell_type": "markdown",
   "metadata": {},
   "source": [
    "And you can read the Excel with the patterns into the PatternMiner-object in the following way."
   ]
  },
  {
   "cell_type": "code",
   "execution_count": null,
   "metadata": {
    "scrolled": false
   },
   "outputs": [],
   "source": [
    "p = data_patterns.PatternMiner(df_patterns = pd.read_excel(\"patterns.xlsx\"))"
   ]
  },
  {
   "cell_type": "markdown",
   "metadata": {},
   "source": [
    "Subsequently, the statistics in df_patterns can be updated with statistics from the data by evaluating pandas expressions"
   ]
  },
  {
   "cell_type": "code",
   "execution_count": null,
   "metadata": {
    "scrolled": true
   },
   "outputs": [],
   "source": [
    "p.update_statistics(df)\n",
    "p.df_patterns"
   ]
  },
  {
   "cell_type": "code",
   "execution_count": null,
   "metadata": {
    "scrolled": true
   },
   "outputs": [],
   "source": [
    "df_results = miner.analyze()\n",
    "df_results"
   ]
  },
  {
   "cell_type": "markdown",
   "metadata": {},
   "source": [
    "### Evaluating other metrics"
   ]
  },
  {
   "cell_type": "markdown",
   "metadata": {},
   "source": [
    "On default the support, exceptions and confidence are evaluated. If desired you can also add other metrics in the output by using the parameters dictionary. "
   ]
  },
  {
   "cell_type": "code",
   "execution_count": null,
   "metadata": {
    "scrolled": true
   },
   "outputs": [],
   "source": [
    "miner = data_patterns.PatternMiner(df)\n",
    "parameters = {'metrics': ['conviction', 'lift']}\n",
    "p4 = {'name'     : 'test',\n",
    "      'expression' : 'IF {.*Ty.*} = [@] THEN {.*As.*} = [@] & {.*TV-n.*} = [@] & {.*TV-l.*} = [@] & {.*O.*} = [@]',\n",
    "      'encode'   : {'Assets'    : 'reported',\n",
    "                    'TV-life'   : 'reported',\n",
    "                    'TV-nonlife': 'reported',\n",
    "                    'Own funds' : 'reported'},\n",
    "      'parameters': parameters}\n",
    "miner.find(p4)"
   ]
  },
  {
   "cell_type": "markdown",
   "metadata": {},
   "source": [
    "The following metrics are currently available\n",
    "\n",
    "* added value\n",
    "* conviction\n",
    "* casual confidence\n",
    "* casual support\n",
    "* lift\n",
    "* relative support\n"
   ]
  },
  {
   "cell_type": "markdown",
   "metadata": {},
   "source": [
    "## Background"
   ]
  },
  {
   "cell_type": "markdown",
   "metadata": {},
   "source": [
    "Our approach to pattern mining is somewhat different from traditional association rules mining. Association rules work on a set of items (binary attributes). In the original definition, the items in the set are not linked to column names. However, often we want to find associations between the values of specific columns in a dataset. The pattern mining applied here finds patterns between the values of different columns in a dataset while using the basic measures of association rules mining like support and confidence.\n"
   ]
  },
  {
   "cell_type": "code",
   "execution_count": null,
   "metadata": {},
   "outputs": [],
   "source": []
  }
 ],
 "metadata": {
  "kernelspec": {
   "display_name": "Python 3",
   "language": "python",
   "name": "python3"
  },
  "language_info": {
   "codemirror_mode": {
    "name": "ipython",
    "version": 3
   },
   "file_extension": ".py",
   "mimetype": "text/x-python",
   "name": "python",
   "nbconvert_exporter": "python",
   "pygments_lexer": "ipython3",
   "version": "3.7.5"
  }
 },
 "nbformat": 4,
 "nbformat_minor": 2
}
